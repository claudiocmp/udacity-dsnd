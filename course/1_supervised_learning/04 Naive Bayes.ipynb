{
 "cells": [
  {
   "cell_type": "markdown",
   "metadata": {},
   "source": [
    "# Naive Bayes"
   ]
  },
  {
   "cell_type": "markdown",
   "metadata": {},
   "source": [
    "## Bayes Theorem\n",
    "\n",
    "Bayes theorem is one of the earliest inference algorithm. Bayes Theorem calculates the probability of a certain event happening (e.g. a message being spam) based on the joint probabilistic distributions of certain other events (e.g. the appearance of certain words in a message).\n",
    "\n",
    "\\begin{equation*}\n",
    "P(A|B) = \\frac{P(A)P(B|A)}{P(B)}\n",
    "\\end{equation*}\n",
    "\n",
    "Example: Brenda and Alex are employees at the office. We know that:\n",
    " * Alex works mostly in the office, 3 times a week\n",
    " * Brenda mainly travels, so she comes to the office once a week\n",
    "NOTE: a week is made of 5 working days\n",
    "\n",
    "We observe someone running through the office wearing a red sweather, but we're unable to recognise who she/he is. So, we make a guess. Based on the above data, we calculate the single probabilities of the single events:\n",
    "\n",
    "\\begin{equation*}\n",
    "P(A) = \\frac{3}{5}=0.60 \\;\\;\\; P(B) = \\frac{1}{5}=0.20\n",
    "\\end{equation*}\n",
    "\n",
    "We have now to normalize these probability, since we do now that someone was wearing a red sweather. Therefore:\n",
    "\n",
    "\\begin{equation*}\n",
    "P(A) = \\frac{P(A)}{P(A)+P(B)} \\;\\;\\; P(B) = \\frac{P(B)}{P(A)+P(B)}\\\\\\\\\n",
    "P(A) = \\frac{\\frac{3}{5}}{\\frac{3}{5}+\\frac{1}{5}}=0.75 \\;\\;\\; P(B) = \\frac{\\frac{1}{5}}{\\frac{3}{5}+\\frac{1}{5}}=0.25\n",
    "\\end{equation*}\n",
    "\n",
    "Now, we introduce more knowledge:\n",
    " * Alex wears a red sweather 2 days a week\n",
    " * Brenda wears a sweather 3 days a week\n",
    "\n",
    "\n",
    "<img src=\".\\images\\4.01_bayes-example.png\" style=\"width: 600px;\"/>\n",
    "\n",
    "Therefore, the probability of having seen Alex wearing a red sweather is:\n",
    "\n",
    "\\begin{equation*}\n",
    "P(A|R) = \\frac{P(A)P(R|A)}{P(R)} \\\\\n",
    "P(A|R) = \\frac{P(A)P(R|A)}{P(A)P(R|A)+P( \\neg A)P(R|\\neg A)}\\\\\n",
    "P(A|R) = \\frac{0.75 \\cdot 0.40}{0.75 \\cdot 0.40 + 0.25 \\cdot 0.60} = 66.7\\%\n",
    "\\end{equation*}"
   ]
  },
  {
   "cell_type": "markdown",
   "metadata": {},
   "source": [
    "## Naive Bayes\n",
    "\n",
    "Spam email classifier can be built as a Naive Bayes Classifier. We check the words of an email against a sample of sentences we have.\n",
    "\n",
    "<img src=\".\\images\\4.02_spam-example_01.png\" style=\"width: 400px;\"/>\n",
    "\n",
    "So, given an email that contains the word `easy`, the probability that is spam is $1/3$, while given an email that contains the word `money`, the proabbility that is spam is $2/3$ (total sentences in spam cat = 3).\n",
    "\n",
    "#### Example\n",
    "\n",
    "Suppose you have a bag with three standard 6-sided dice with face values [1,2,3,4,5,6] and two non-standard 6-sided dice with face values [2,3,3,4,4,5]. Someone draws a \n",
    "die from the bag, rolls it, and announces it was a 3. What is the probability that the die that was rolled was a standard die?\n",
    "\n",
    "\\begin{equation*}\n",
    "P(std) = 3/5 \\\\\n",
    "P(\\neg std) = 2/5 \\\\\n",
    "\\\\\n",
    "P(std|'3') = \\frac{P(std) \\cdot P('3'|std)}{P(std) \\cdot P('3'|std) + P(\\neg std) \\cdot P('3'|\\neg std)} = \\frac{3/5 \\cdot 1/6}{3/5 \\cdot 1/6+2/5 \\cdot 1/3} = \\frac{1/10}{1/10+2/15} = \\frac{3}{7} = 43\\%\n",
    "\\end{equation*}"
   ]
  },
  {
   "cell_type": "code",
   "execution_count": 3,
   "metadata": {},
   "outputs": [
    {
     "name": "stdout",
     "output_type": "stream",
     "text": [
      "Accuracy score:  0.9885139985642498\n",
      "Precision score:  0.9720670391061452\n",
      "Recall score:  0.9405405405405406\n",
      "F1 score:  0.9560439560439562\n"
     ]
    }
   ],
   "source": [
    "# Import our libraries\n",
    "import pandas as pd\n",
    "from sklearn.model_selection import train_test_split\n",
    "from sklearn.feature_extraction.text import CountVectorizer\n",
    "from sklearn.naive_bayes import MultinomialNB\n",
    "from sklearn.metrics import accuracy_score, precision_score, recall_score, f1_score\n",
    "\n",
    "\n",
    "# Read in our dataset\n",
    "df = pd.read_csv('data\\smsspamcollection/SMSSpamCollection',\n",
    "                   sep='\\t', \n",
    "                   header=None, \n",
    "                   names=['label', 'sms_message'])\n",
    "\n",
    "# Fix our response value\n",
    "df['label'] = df.label.map({'ham':0, 'spam':1})\n",
    "\n",
    "# Split our dataset into training and testing data\n",
    "X_train, X_test, y_train, y_test = train_test_split(df['sms_message'], \n",
    "                                                    df['label'], \n",
    "                                                    random_state=1)\n",
    "\n",
    "# Instantiate the CountVectorizer method\n",
    "count_vector = CountVectorizer()\n",
    "\n",
    "# Fit the training data and then return the matrix\n",
    "training_data = count_vector.fit_transform(X_train)\n",
    "\n",
    "# Transform testing data and return the matrix. Note we are not fitting the testing data into the CountVectorizer()\n",
    "testing_data = count_vector.transform(X_test)\n",
    "\n",
    "# Instantiate our model\n",
    "naive_bayes = MultinomialNB()\n",
    "\n",
    "# Fit our model to the training data\n",
    "naive_bayes.fit(training_data, y_train)\n",
    "\n",
    "# Predict on the test data\n",
    "predictions = naive_bayes.predict(testing_data)\n",
    "\n",
    "# Score our model\n",
    "print('Accuracy score: ', format(accuracy_score(y_test, predictions)))\n",
    "print('Precision score: ', format(precision_score(y_test, predictions)))\n",
    "print('Recall score: ', format(recall_score(y_test, predictions)))\n",
    "print('F1 score: ', format(f1_score(y_test, predictions)))"
   ]
  }
 ],
 "metadata": {
  "kernelspec": {
   "display_name": "Python 3",
   "language": "python",
   "name": "python3"
  },
  "language_info": {
   "codemirror_mode": {
    "name": "ipython",
    "version": 3
   },
   "file_extension": ".py",
   "mimetype": "text/x-python",
   "name": "python",
   "nbconvert_exporter": "python",
   "pygments_lexer": "ipython3",
   "version": "3.7.3"
  }
 },
 "nbformat": 4,
 "nbformat_minor": 2
}
