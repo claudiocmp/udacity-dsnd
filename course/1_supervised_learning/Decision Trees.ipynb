{
 "cells": [
  {
   "cell_type": "markdown",
   "metadata": {},
   "source": [
    "### Entropy\n",
    "\n",
    "Entropy measure the uncertainity of a random variable $X$. It is defined as:\n",
    "\n",
    "\\begin{equation*}\n",
    "H(X) = -\\sum{P(x_i)\\log{P(x_i)}}\n",
    "\\end{equation*}\n",
    "\n",
    "where:\n",
    " * $P(x_i)$ is the probability of the event $x_i | x_i \\in X$\n",
    "\n",
    "\n",
    "### Information Gain\n",
    " \n",
    "Information gain compares a set of samples against its subset of classified data. The initial set is $X$, whereas its $n$ classified sub-sets are $\\{Y_1,Y_2,Y_3,...,Y_n\\}$. The Information Gain $G$ is defined as:\n",
    "\n",
    "\\begin{equation*}\n",
    "G = H(X) - \\frac{\\sum{\\omega_i H(Y_i)}}{\\sum{\\omega_i}}\n",
    "\\end{equation*}\n",
    " \n",
    "where:\n",
    "  * $H(X)$ is the entropy of $X$\n",
    "  * $\\omega_i\\$ is the number of samples of the i-th subset\n",
    "\n",
    "The second term it is a weighted average. Check on wikipedia for statistical properties of weighted average."
   ]
  },
  {
   "cell_type": "code",
   "execution_count": 35,
   "metadata": {},
   "outputs": [],
   "source": [
    "import pandas as pd\n",
    "import numpy as np\n",
    "import math"
   ]
  },
  {
   "cell_type": "code",
   "execution_count": 4,
   "metadata": {},
   "outputs": [
    {
     "data": {
      "text/html": [
       "<div>\n",
       "<style scoped>\n",
       "    .dataframe tbody tr th:only-of-type {\n",
       "        vertical-align: middle;\n",
       "    }\n",
       "\n",
       "    .dataframe tbody tr th {\n",
       "        vertical-align: top;\n",
       "    }\n",
       "\n",
       "    .dataframe thead th {\n",
       "        text-align: right;\n",
       "    }\n",
       "</style>\n",
       "<table border=\"1\" class=\"dataframe\">\n",
       "  <thead>\n",
       "    <tr style=\"text-align: right;\">\n",
       "      <th></th>\n",
       "      <th>Species</th>\n",
       "      <th>Color</th>\n",
       "      <th>Length (mm)</th>\n",
       "    </tr>\n",
       "  </thead>\n",
       "  <tbody>\n",
       "    <tr>\n",
       "      <th>0</th>\n",
       "      <td>Mobug</td>\n",
       "      <td>Brown</td>\n",
       "      <td>11.6</td>\n",
       "    </tr>\n",
       "    <tr>\n",
       "      <th>1</th>\n",
       "      <td>Mobug</td>\n",
       "      <td>Blue</td>\n",
       "      <td>16.3</td>\n",
       "    </tr>\n",
       "    <tr>\n",
       "      <th>2</th>\n",
       "      <td>Lobug</td>\n",
       "      <td>Blue</td>\n",
       "      <td>15.1</td>\n",
       "    </tr>\n",
       "    <tr>\n",
       "      <th>3</th>\n",
       "      <td>Lobug</td>\n",
       "      <td>Green</td>\n",
       "      <td>23.7</td>\n",
       "    </tr>\n",
       "    <tr>\n",
       "      <th>4</th>\n",
       "      <td>Lobug</td>\n",
       "      <td>Blue</td>\n",
       "      <td>18.4</td>\n",
       "    </tr>\n",
       "  </tbody>\n",
       "</table>\n",
       "</div>"
      ],
      "text/plain": [
       "  Species  Color  Length (mm)\n",
       "0   Mobug  Brown         11.6\n",
       "1   Mobug   Blue         16.3\n",
       "2   Lobug   Blue         15.1\n",
       "3   Lobug  Green         23.7\n",
       "4   Lobug   Blue         18.4"
      ]
     },
     "execution_count": 4,
     "metadata": {},
     "output_type": "execute_result"
    }
   ],
   "source": [
    "data = pd.read_csv(r\"data\\ml-bugs.csv\")\n",
    "data.head()"
   ]
  },
  {
   "cell_type": "code",
   "execution_count": 63,
   "metadata": {},
   "outputs": [],
   "source": [
    "splicings = {\n",
    "    'Color':{\n",
    "        'Brown':lambda x:x=='Brown',\n",
    "        'Blue':lambda x:x=='Blue',\n",
    "        'Green':lambda x:x=='Green'},\n",
    "    'Length (mm)':{\n",
    "        'Length17':lambda x:x<17.0,\n",
    "        'Length20':lambda x:x<20.0\n",
    "    }\n",
    "}\n",
    "\n",
    "def split(df, col, criterion):\n",
    "    \"\"\"\n",
    "    split a dataframe into two df\n",
    "    \n",
    "    :param df: pandas dataframe\n",
    "    :param criterion: function to be applied to a df column\n",
    "    \n",
    "    :returns: df1, df2\n",
    "    \"\"\"\n",
    "    mask = criterion(df[col])\n",
    "    return df[mask], df[[not m for m in mask]]\n",
    "    \n",
    "def entropy(ary):\n",
    "    \"\"\"\n",
    "    \n",
    "    \"\"\"\n",
    "    n = len(ary)\n",
    "    unique, counts = np.unique(ary, return_counts=True)\n",
    "    H = 0.0\n",
    "    \n",
    "    for c in counts:\n",
    "        p = float(c)/float(n)\n",
    "        H += -p*math.log2(p)\n",
    "    return H\n",
    "\n",
    "def info_gain(a, subs):\n",
    "    \"\"\"\n",
    "    \n",
    "    \"\"\"\n",
    "    H = entropy(a)\n",
    "    n = sum([len(sb) for sb in subs])\n",
    "    Y = 0.0\n",
    "    \n",
    "    for sb in subs:\n",
    "        Y += len(sb)*entropy(sb)\n",
    "        \n",
    "    G = H - Y/float(n)\n",
    "    return G"
   ]
  },
  {
   "cell_type": "code",
   "execution_count": 64,
   "metadata": {},
   "outputs": [
    {
     "data": {
      "text/html": [
       "<div>\n",
       "<style scoped>\n",
       "    .dataframe tbody tr th:only-of-type {\n",
       "        vertical-align: middle;\n",
       "    }\n",
       "\n",
       "    .dataframe tbody tr th {\n",
       "        vertical-align: top;\n",
       "    }\n",
       "\n",
       "    .dataframe thead th {\n",
       "        text-align: right;\n",
       "    }\n",
       "</style>\n",
       "<table border=\"1\" class=\"dataframe\">\n",
       "  <thead>\n",
       "    <tr style=\"text-align: right;\">\n",
       "      <th></th>\n",
       "      <th>Species</th>\n",
       "      <th>Color</th>\n",
       "      <th>Length (mm)</th>\n",
       "    </tr>\n",
       "  </thead>\n",
       "  <tbody>\n",
       "    <tr>\n",
       "      <th>0</th>\n",
       "      <td>Mobug</td>\n",
       "      <td>Brown</td>\n",
       "      <td>11.6</td>\n",
       "    </tr>\n",
       "    <tr>\n",
       "      <th>1</th>\n",
       "      <td>Mobug</td>\n",
       "      <td>Blue</td>\n",
       "      <td>16.3</td>\n",
       "    </tr>\n",
       "    <tr>\n",
       "      <th>2</th>\n",
       "      <td>Lobug</td>\n",
       "      <td>Blue</td>\n",
       "      <td>15.1</td>\n",
       "    </tr>\n",
       "    <tr>\n",
       "      <th>4</th>\n",
       "      <td>Lobug</td>\n",
       "      <td>Blue</td>\n",
       "      <td>18.4</td>\n",
       "    </tr>\n",
       "    <tr>\n",
       "      <th>5</th>\n",
       "      <td>Lobug</td>\n",
       "      <td>Brown</td>\n",
       "      <td>17.1</td>\n",
       "    </tr>\n",
       "    <tr>\n",
       "      <th>6</th>\n",
       "      <td>Mobug</td>\n",
       "      <td>Brown</td>\n",
       "      <td>15.7</td>\n",
       "    </tr>\n",
       "    <tr>\n",
       "      <th>8</th>\n",
       "      <td>Lobug</td>\n",
       "      <td>Blue</td>\n",
       "      <td>22.9</td>\n",
       "    </tr>\n",
       "    <tr>\n",
       "      <th>9</th>\n",
       "      <td>Lobug</td>\n",
       "      <td>Blue</td>\n",
       "      <td>21.0</td>\n",
       "    </tr>\n",
       "    <tr>\n",
       "      <th>10</th>\n",
       "      <td>Lobug</td>\n",
       "      <td>Blue</td>\n",
       "      <td>20.5</td>\n",
       "    </tr>\n",
       "    <tr>\n",
       "      <th>12</th>\n",
       "      <td>Mobug</td>\n",
       "      <td>Brown</td>\n",
       "      <td>13.8</td>\n",
       "    </tr>\n",
       "    <tr>\n",
       "      <th>13</th>\n",
       "      <td>Lobug</td>\n",
       "      <td>Blue</td>\n",
       "      <td>14.5</td>\n",
       "    </tr>\n",
       "    <tr>\n",
       "      <th>15</th>\n",
       "      <td>Mobug</td>\n",
       "      <td>Brown</td>\n",
       "      <td>18.2</td>\n",
       "    </tr>\n",
       "    <tr>\n",
       "      <th>19</th>\n",
       "      <td>Mobug</td>\n",
       "      <td>Blue</td>\n",
       "      <td>14.6</td>\n",
       "    </tr>\n",
       "    <tr>\n",
       "      <th>20</th>\n",
       "      <td>Mobug</td>\n",
       "      <td>Blue</td>\n",
       "      <td>19.2</td>\n",
       "    </tr>\n",
       "    <tr>\n",
       "      <th>21</th>\n",
       "      <td>Lobug</td>\n",
       "      <td>Brown</td>\n",
       "      <td>14.1</td>\n",
       "    </tr>\n",
       "    <tr>\n",
       "      <th>23</th>\n",
       "      <td>Mobug</td>\n",
       "      <td>Blue</td>\n",
       "      <td>13.1</td>\n",
       "    </tr>\n",
       "  </tbody>\n",
       "</table>\n",
       "</div>"
      ],
      "text/plain": [
       "   Species  Color  Length (mm)\n",
       "0    Mobug  Brown         11.6\n",
       "1    Mobug   Blue         16.3\n",
       "2    Lobug   Blue         15.1\n",
       "4    Lobug   Blue         18.4\n",
       "5    Lobug  Brown         17.1\n",
       "6    Mobug  Brown         15.7\n",
       "8    Lobug   Blue         22.9\n",
       "9    Lobug   Blue         21.0\n",
       "10   Lobug   Blue         20.5\n",
       "12   Mobug  Brown         13.8\n",
       "13   Lobug   Blue         14.5\n",
       "15   Mobug  Brown         18.2\n",
       "19   Mobug   Blue         14.6\n",
       "20   Mobug   Blue         19.2\n",
       "21   Lobug  Brown         14.1\n",
       "23   Mobug   Blue         13.1"
      ]
     },
     "execution_count": 64,
     "metadata": {},
     "output_type": "execute_result"
    }
   ],
   "source": [
    "df1,df2 = split(data, 'Color', splicings['Color']['Green'])\n",
    "df2"
   ]
  },
  {
   "cell_type": "markdown",
   "metadata": {},
   "source": [
    "calculate a sample entropy"
   ]
  },
  {
   "cell_type": "code",
   "execution_count": 65,
   "metadata": {},
   "outputs": [
    {
     "data": {
      "text/plain": [
       "1.0"
      ]
     },
     "execution_count": 65,
     "metadata": {},
     "output_type": "execute_result"
    }
   ],
   "source": [
    "entropy(np.array(df2['Species']))"
   ]
  },
  {
   "cell_type": "markdown",
   "metadata": {},
   "source": [
    "calculate sample info gain"
   ]
  },
  {
   "cell_type": "code",
   "execution_count": 66,
   "metadata": {},
   "outputs": [
    {
     "data": {
      "text/plain": [
       "0.042776048498108454"
      ]
     },
     "execution_count": 66,
     "metadata": {},
     "output_type": "execute_result"
    }
   ],
   "source": [
    "info_gain(np.array(data['Species']),[np.array(df1['Species']),np.array(df2['Species'])])"
   ]
  },
  {
   "cell_type": "markdown",
   "metadata": {},
   "source": [
    "calculate info gain for all the scenarios"
   ]
  },
  {
   "cell_type": "code",
   "execution_count": 69,
   "metadata": {},
   "outputs": [
    {
     "data": {
      "text/plain": [
       "{'Brown': 0.06157292259666325,\n",
       " 'Blue': 0.000589596275060833,\n",
       " 'Green': 0.042776048498108454,\n",
       " 'Length17': 0.11260735516748954,\n",
       " 'Length20': 0.10073322588651734}"
      ]
     },
     "execution_count": 69,
     "metadata": {},
     "output_type": "execute_result"
    }
   ],
   "source": [
    "results = {}\n",
    "for feature,rules in splicings.items():\n",
    "    for rule_name, rule in rules.items():\n",
    "        df1,df2 = split(data,feature,rule)\n",
    "        results[rule_name] = info_gain(np.array(data['Species']),[np.array(df1['Species']),np.array(df2['Species'])])\n",
    "\n",
    "results"
   ]
  },
  {
   "cell_type": "code",
   "execution_count": null,
   "metadata": {},
   "outputs": [],
   "source": []
  }
 ],
 "metadata": {
  "kernelspec": {
   "display_name": "Python 3",
   "language": "python",
   "name": "python3"
  },
  "language_info": {
   "codemirror_mode": {
    "name": "ipython",
    "version": 3
   },
   "file_extension": ".py",
   "mimetype": "text/x-python",
   "name": "python",
   "nbconvert_exporter": "python",
   "pygments_lexer": "ipython3",
   "version": "3.7.3"
  }
 },
 "nbformat": 4,
 "nbformat_minor": 2
}
